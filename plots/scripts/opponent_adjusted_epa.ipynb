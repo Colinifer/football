{
 "cells": [
  {
   "cell_type": "code",
   "execution_count": 3,
   "id": "d37e486d",
   "metadata": {},
   "outputs": [],
   "source": [
    "### --------------------------------------------------------------------------\n",
    "### PART 1 - Configuration\n",
    "### --------------------------------------------------------------------------\n",
    "# @jbuddavis\n",
    "# https://github.com/jbuddavis\n",
    "\n",
    "# Load modules\n",
    "import pandas as pd \n",
    "import time\n",
    "import cfbd\n",
    "import os\n",
    "from sklearn import linear_model\n",
    "\n",
    "# track time to complete, turn off pandas warning\n",
    "start = time.time()\n",
    "pd.options.mode.chained_assignment = None\n",
    "\n",
    "#%% Configure Inputs\n",
    "# Choose what year you would like to perform adjustment on\n",
    "u_year = 2021 # year of interest\n",
    "\n",
    "# Configure API key authorization\n",
    "configuration = cfbd.Configuration()\n",
    "configuration.api_key['Authorization'] = 'SYwgOy4mzUTmokMpWJEPdBthkwwN/H3hNJtVKudClwqWX9jyt8M89imyMk7ssYbi'\n",
    "configuration.api_key_prefix['Authorization'] = 'Bearer'\n",
    "\n",
    "# create empty dataframes to be filled\n",
    "dfCal = pd.DataFrame() # dataframe for calendar\n",
    "dfPBP = pd.DataFrame() # dataframe for pbp data\n",
    "dfGame = pd.DataFrame() # dataframe for game information\n",
    "dfTeam = pd.DataFrame() # dataframe for team information\n"
   ]
  },
  {
   "cell_type": "code",
   "execution_count": 5,
   "id": "212c81ea",
   "metadata": {},
   "outputs": [],
   "source": [
    "### --------------------------------------------------------------------------\n",
    "### PART 2 - Ping the API\n",
    "### --------------------------------------------------------------------------\n",
    "# get calendar for season\n",
    "api_instance = cfbd.GamesApi(cfbd.ApiClient(configuration))\n",
    "api_response = api_instance.get_calendar(u_year)\n",
    "dfCal = pd.DataFrame().from_records([g.to_dict()for g in api_response])"
   ]
  },
  {
   "cell_type": "code",
   "execution_count": 24,
   "id": "14fce238",
   "metadata": {},
   "outputs": [
    {
     "name": "stdout",
     "output_type": "stream",
     "text": [
      "Getting PBP data for year 2021...\n",
      "PBP data downloaded for regular week 1\n",
      "PBP data downloaded for regular week 2\n",
      "PBP data downloaded for regular week 3\n",
      "PBP data downloaded for regular week 4\n",
      "PBP data downloaded for regular week 5\n",
      "PBP data downloaded for regular week 6\n",
      "PBP data downloaded for regular week 7\n",
      "PBP data downloaded for regular week 8\n",
      "PBP data downloaded for regular week 9\n",
      "PBP data downloaded for regular week 10\n",
      "PBP data downloaded for regular week 11\n",
      "PBP data downloaded for regular week 12\n",
      "PBP data downloaded for regular week 13\n",
      "PBP data downloaded for regular week 14\n",
      "PBP data downloaded for regular week 15\n",
      "PBP data downloaded for postseason week 1\n"
     ]
    }
   ],
   "source": [
    "# loop through the calendar and get the PBP for each week\n",
    "print('Getting PBP data for year '+str(u_year)+'...')\n",
    "for i in range (0,len(dfCal)):\n",
    "    # iterate through calendar to get week/season_type variables to pass to the API\n",
    "    u_week = int(dfCal.loc[i,'week']) # get week from calendar\n",
    "    u_season_type = dfCal.loc[i,'season_type'] # get season type from calendar\n",
    "    # Get play-by-play Data\n",
    "    api_instance = cfbd.PlaysApi(cfbd.ApiClient(configuration))\n",
    "    api_response = api_instance.get_plays(year=u_year, \n",
    "                                          week=u_week, \n",
    "                                          season_type=u_season_type)\n",
    "    dfWk = pd.DataFrame().from_records([g.to_dict()for g in api_response])\n",
    "    dfPBP = dfPBP.append(dfWk)\n",
    "    # Get game info (used for homefield advantage)\n",
    "    api_instance = cfbd.GamesApi(cfbd.ApiClient(configuration))\n",
    "    api_response = api_instance.get_games(year=u_year, \n",
    "                                          week=u_week, \n",
    "                                          season_type=u_season_type)\n",
    "    dfGameWk = pd.DataFrame().from_records([g.to_dict()for g in api_response])\n",
    "    dfGame = dfGame.append(dfGameWk)\n",
    "    print('PBP data downloaded for '+u_season_type+' week',u_week)"
   ]
  },
  {
   "cell_type": "code",
   "execution_count": 13,
   "id": "c3b9637f",
   "metadata": {},
   "outputs": [],
   "source": [
    "dfGame = pd.read_csv('games'+str(u_year)+'.csv')\n",
    "dfPBP = pd.read_csv('allPBP'+str(u_year)+'.csv')\n",
    "\n",
    "# Get FBS teams\n",
    "api_instance = cfbd.TeamsApi(cfbd.ApiClient(configuration))\n",
    "api_response = api_instance.get_fbs_teams(year=u_year) \n",
    "dfTeam = pd.DataFrame().from_records([g.to_dict()for g in api_response])\n",
    "dfTeam = dfTeam[['school']]\n",
    "dfTeam.to_csv('teams.csv',index=False) #print FBS teams to csv for record keeping"
   ]
  },
  {
   "cell_type": "code",
   "execution_count": 14,
   "id": "a1c41c69",
   "metadata": {},
   "outputs": [
    {
     "name": "stdout",
     "output_type": "stream",
     "text": [
      "Formatting data...\n"
     ]
    },
    {
     "ename": "KeyError",
     "evalue": "'home'",
     "output_type": "error",
     "traceback": [
      "\u001b[0;31m---------------------------------------------------------------------------\u001b[0m",
      "\u001b[0;31mKeyError\u001b[0m                                  Traceback (most recent call last)",
      "\u001b[0;32m~/opt/anaconda3/lib/python3.8/site-packages/pandas/core/indexes/base.py\u001b[0m in \u001b[0;36mget_loc\u001b[0;34m(self, key, method, tolerance)\u001b[0m\n\u001b[1;32m   3360\u001b[0m             \u001b[0;32mtry\u001b[0m\u001b[0;34m:\u001b[0m\u001b[0;34m\u001b[0m\u001b[0;34m\u001b[0m\u001b[0m\n\u001b[0;32m-> 3361\u001b[0;31m                 \u001b[0;32mreturn\u001b[0m \u001b[0mself\u001b[0m\u001b[0;34m.\u001b[0m\u001b[0m_engine\u001b[0m\u001b[0;34m.\u001b[0m\u001b[0mget_loc\u001b[0m\u001b[0;34m(\u001b[0m\u001b[0mcasted_key\u001b[0m\u001b[0;34m)\u001b[0m\u001b[0;34m\u001b[0m\u001b[0;34m\u001b[0m\u001b[0m\n\u001b[0m\u001b[1;32m   3362\u001b[0m             \u001b[0;32mexcept\u001b[0m \u001b[0mKeyError\u001b[0m \u001b[0;32mas\u001b[0m \u001b[0merr\u001b[0m\u001b[0;34m:\u001b[0m\u001b[0;34m\u001b[0m\u001b[0;34m\u001b[0m\u001b[0m\n",
      "\u001b[0;32m~/opt/anaconda3/lib/python3.8/site-packages/pandas/_libs/index.pyx\u001b[0m in \u001b[0;36mpandas._libs.index.IndexEngine.get_loc\u001b[0;34m()\u001b[0m\n",
      "\u001b[0;32m~/opt/anaconda3/lib/python3.8/site-packages/pandas/_libs/index.pyx\u001b[0m in \u001b[0;36mpandas._libs.index.IndexEngine.get_loc\u001b[0;34m()\u001b[0m\n",
      "\u001b[0;32mpandas/_libs/hashtable_class_helper.pxi\u001b[0m in \u001b[0;36mpandas._libs.hashtable.PyObjectHashTable.get_item\u001b[0;34m()\u001b[0m\n",
      "\u001b[0;32mpandas/_libs/hashtable_class_helper.pxi\u001b[0m in \u001b[0;36mpandas._libs.hashtable.PyObjectHashTable.get_item\u001b[0;34m()\u001b[0m\n",
      "\u001b[0;31mKeyError\u001b[0m: 'home'",
      "\nThe above exception was the direct cause of the following exception:\n",
      "\u001b[0;31mKeyError\u001b[0m                                  Traceback (most recent call last)",
      "\u001b[0;32m/var/folders/ln/xbdf0n4n4kvf_wwf39z6w2r40000gn/T/ipykernel_45124/4286595699.py\u001b[0m in \u001b[0;36m<module>\u001b[0;34m\u001b[0m\n\u001b[1;32m      5\u001b[0m \u001b[0;34m\u001b[0m\u001b[0m\n\u001b[1;32m      6\u001b[0m \u001b[0;31m# Drop non-\"fbs-vs-fbs\" games\u001b[0m\u001b[0;34m\u001b[0m\u001b[0;34m\u001b[0m\u001b[0;34m\u001b[0m\u001b[0m\n\u001b[0;32m----> 7\u001b[0;31m \u001b[0mdfPBP\u001b[0m \u001b[0;34m=\u001b[0m \u001b[0mdfPBP\u001b[0m\u001b[0;34m[\u001b[0m\u001b[0mdfPBP\u001b[0m\u001b[0;34m[\u001b[0m\u001b[0;34m'home'\u001b[0m\u001b[0;34m]\u001b[0m\u001b[0;34m.\u001b[0m\u001b[0misin\u001b[0m\u001b[0;34m(\u001b[0m\u001b[0mdfTeam\u001b[0m\u001b[0;34m.\u001b[0m\u001b[0mschool\u001b[0m\u001b[0;34m.\u001b[0m\u001b[0mto_list\u001b[0m\u001b[0;34m(\u001b[0m\u001b[0;34m)\u001b[0m\u001b[0;34m)\u001b[0m\u001b[0;34m]\u001b[0m \u001b[0;31m# drop data if home team not in list of teams\u001b[0m\u001b[0;34m\u001b[0m\u001b[0;34m\u001b[0m\u001b[0m\n\u001b[0m\u001b[1;32m      8\u001b[0m \u001b[0mdfPBP\u001b[0m \u001b[0;34m=\u001b[0m \u001b[0mdfPBP\u001b[0m\u001b[0;34m[\u001b[0m\u001b[0mdfPBP\u001b[0m\u001b[0;34m[\u001b[0m\u001b[0;34m'away'\u001b[0m\u001b[0;34m]\u001b[0m\u001b[0;34m.\u001b[0m\u001b[0misin\u001b[0m\u001b[0;34m(\u001b[0m\u001b[0mdfTeam\u001b[0m\u001b[0;34m.\u001b[0m\u001b[0mschool\u001b[0m\u001b[0;34m.\u001b[0m\u001b[0mto_list\u001b[0m\u001b[0;34m(\u001b[0m\u001b[0;34m)\u001b[0m\u001b[0;34m)\u001b[0m\u001b[0;34m]\u001b[0m \u001b[0;31m# drop data if away team not in list of teams\u001b[0m\u001b[0;34m\u001b[0m\u001b[0;34m\u001b[0m\u001b[0m\n\u001b[1;32m      9\u001b[0m \u001b[0mdfPBP\u001b[0m\u001b[0;34m.\u001b[0m\u001b[0mreset_index\u001b[0m\u001b[0;34m(\u001b[0m\u001b[0minplace\u001b[0m\u001b[0;34m=\u001b[0m\u001b[0;32mTrue\u001b[0m\u001b[0;34m,\u001b[0m\u001b[0mdrop\u001b[0m\u001b[0;34m=\u001b[0m\u001b[0;32mTrue\u001b[0m\u001b[0;34m)\u001b[0m\u001b[0;34m\u001b[0m\u001b[0;34m\u001b[0m\u001b[0m\n",
      "\u001b[0;32m~/opt/anaconda3/lib/python3.8/site-packages/pandas/core/frame.py\u001b[0m in \u001b[0;36m__getitem__\u001b[0;34m(self, key)\u001b[0m\n\u001b[1;32m   3456\u001b[0m             \u001b[0;32mif\u001b[0m \u001b[0mself\u001b[0m\u001b[0;34m.\u001b[0m\u001b[0mcolumns\u001b[0m\u001b[0;34m.\u001b[0m\u001b[0mnlevels\u001b[0m \u001b[0;34m>\u001b[0m \u001b[0;36m1\u001b[0m\u001b[0;34m:\u001b[0m\u001b[0;34m\u001b[0m\u001b[0;34m\u001b[0m\u001b[0m\n\u001b[1;32m   3457\u001b[0m                 \u001b[0;32mreturn\u001b[0m \u001b[0mself\u001b[0m\u001b[0;34m.\u001b[0m\u001b[0m_getitem_multilevel\u001b[0m\u001b[0;34m(\u001b[0m\u001b[0mkey\u001b[0m\u001b[0;34m)\u001b[0m\u001b[0;34m\u001b[0m\u001b[0;34m\u001b[0m\u001b[0m\n\u001b[0;32m-> 3458\u001b[0;31m             \u001b[0mindexer\u001b[0m \u001b[0;34m=\u001b[0m \u001b[0mself\u001b[0m\u001b[0;34m.\u001b[0m\u001b[0mcolumns\u001b[0m\u001b[0;34m.\u001b[0m\u001b[0mget_loc\u001b[0m\u001b[0;34m(\u001b[0m\u001b[0mkey\u001b[0m\u001b[0;34m)\u001b[0m\u001b[0;34m\u001b[0m\u001b[0;34m\u001b[0m\u001b[0m\n\u001b[0m\u001b[1;32m   3459\u001b[0m             \u001b[0;32mif\u001b[0m \u001b[0mis_integer\u001b[0m\u001b[0;34m(\u001b[0m\u001b[0mindexer\u001b[0m\u001b[0;34m)\u001b[0m\u001b[0;34m:\u001b[0m\u001b[0;34m\u001b[0m\u001b[0;34m\u001b[0m\u001b[0m\n\u001b[1;32m   3460\u001b[0m                 \u001b[0mindexer\u001b[0m \u001b[0;34m=\u001b[0m \u001b[0;34m[\u001b[0m\u001b[0mindexer\u001b[0m\u001b[0;34m]\u001b[0m\u001b[0;34m\u001b[0m\u001b[0;34m\u001b[0m\u001b[0m\n",
      "\u001b[0;32m~/opt/anaconda3/lib/python3.8/site-packages/pandas/core/indexes/base.py\u001b[0m in \u001b[0;36mget_loc\u001b[0;34m(self, key, method, tolerance)\u001b[0m\n\u001b[1;32m   3361\u001b[0m                 \u001b[0;32mreturn\u001b[0m \u001b[0mself\u001b[0m\u001b[0;34m.\u001b[0m\u001b[0m_engine\u001b[0m\u001b[0;34m.\u001b[0m\u001b[0mget_loc\u001b[0m\u001b[0;34m(\u001b[0m\u001b[0mcasted_key\u001b[0m\u001b[0;34m)\u001b[0m\u001b[0;34m\u001b[0m\u001b[0;34m\u001b[0m\u001b[0m\n\u001b[1;32m   3362\u001b[0m             \u001b[0;32mexcept\u001b[0m \u001b[0mKeyError\u001b[0m \u001b[0;32mas\u001b[0m \u001b[0merr\u001b[0m\u001b[0;34m:\u001b[0m\u001b[0;34m\u001b[0m\u001b[0;34m\u001b[0m\u001b[0m\n\u001b[0;32m-> 3363\u001b[0;31m                 \u001b[0;32mraise\u001b[0m \u001b[0mKeyError\u001b[0m\u001b[0;34m(\u001b[0m\u001b[0mkey\u001b[0m\u001b[0;34m)\u001b[0m \u001b[0;32mfrom\u001b[0m \u001b[0merr\u001b[0m\u001b[0;34m\u001b[0m\u001b[0;34m\u001b[0m\u001b[0m\n\u001b[0m\u001b[1;32m   3364\u001b[0m \u001b[0;34m\u001b[0m\u001b[0m\n\u001b[1;32m   3365\u001b[0m         \u001b[0;32mif\u001b[0m \u001b[0mis_scalar\u001b[0m\u001b[0;34m(\u001b[0m\u001b[0mkey\u001b[0m\u001b[0;34m)\u001b[0m \u001b[0;32mand\u001b[0m \u001b[0misna\u001b[0m\u001b[0;34m(\u001b[0m\u001b[0mkey\u001b[0m\u001b[0;34m)\u001b[0m \u001b[0;32mand\u001b[0m \u001b[0;32mnot\u001b[0m \u001b[0mself\u001b[0m\u001b[0;34m.\u001b[0m\u001b[0mhasnans\u001b[0m\u001b[0;34m:\u001b[0m\u001b[0;34m\u001b[0m\u001b[0;34m\u001b[0m\u001b[0m\n",
      "\u001b[0;31mKeyError\u001b[0m: 'home'"
     ]
    }
   ],
   "source": [
    "### --------------------------------------------------------------------------\n",
    "### PART 3 - Format the data\n",
    "### --------------------------------------------------------------------------\n",
    "print('Formatting data...')\n",
    "\n",
    "# Drop non-\"fbs-vs-fbs\" games\n",
    "dfPBP = dfPBP[dfPBP['home'].isin(dfTeam.school.to_list())] # drop data if home team not in list of teams\n",
    "dfPBP = dfPBP[dfPBP['away'].isin(dfTeam.school.to_list())] # drop data if away team not in list of teams\n",
    "dfPBP.reset_index(inplace=True,drop=True)\n",
    "dfGame = dfGame[dfGame['home_team'].isin(dfTeam.school.to_list())]\n",
    "dfGame = dfGame[dfGame['away_team'].isin(dfTeam.school.to_list())]\n",
    "dfGame.to_csv('games'+str(year)+'.csv', index=False) # print game data to csv for record keeping\n",
    "dfGame.reset_index(inplace=True,drop=True)   \n",
    "\n",
    "# drop nas\n",
    "dfPBP.dropna(subset=['ppa'],inplace=True)\n",
    "dfPBP.reset_index(inplace=True,drop=True)\n",
    "\n",
    "# create list of neutral site games\n",
    "neutralGames = dfGame['id'][dfGame['neutral_site']==True].to_list()\n",
    "\n",
    "# All Plays\n",
    "df = dfPBP[['game_id','home','offense','defense','ppa']] # columns of interest\n",
    "df.loc['hfa'] = None # homefield advantage\n",
    "df.loc[(df.home == df.offense),'hfa']=1 # home team on offense\n",
    "df.loc[(df.home == df.defense),'hfa']=-1 # away team on offense\n",
    "df.loc[(df.game_id.isin(neutralGames)),'hfa']=0 # neutral site games\n",
    "df = df[['offense','hfa','defense','ppa']] # drop unneeded colums\n",
    "df.dropna(subset=['ppa'],inplace=True) # drop nas\n",
    "df.reset_index(inplace=True,drop=True) # reset index\n",
    "df.to_csv('allPBP'+str(u_year)+'.csv',index=False) # output to csv for record keeping\n",
    "\n",
    "print('Data formatted')"
   ]
  },
  {
   "cell_type": "code",
   "execution_count": 21,
   "id": "808199a7",
   "metadata": {},
   "outputs": [],
   "source": [
    "### --------------------------------------------------------------------------\n",
    "### PART 4 - Initialize Opponent Adjustment\n",
    "### --------------------------------------------------------------------------\n",
    "#%% Call the opponent adjustment on our dataframes of interest\n",
    "# if you just need to tweek the opp-adj func, to save time, after the first \n",
    "# round of pbp downloading, comment out lines ~85-167 and read in the pbp csvs here\n",
    "dfTeam = pd.read_csv('teams.csv')\n",
    "df = pd.read_csv('allPBP'+str(u_year)+'.csv')\n",
    "\n",
    "# dataframe column names to help guide opponent adjustment function\n",
    "offStr = 'offense' # Column of interest, either the team/player we want to adjust\n",
    "hfaStr = 'hfa' # Homefield Advantage column name\n",
    "defStr = 'defense' # Opponent column name\n",
    "stat = 'ppa' # stat to adjust on"
   ]
  },
  {
   "cell_type": "code",
   "execution_count": 23,
   "id": "90955b6e",
   "metadata": {},
   "outputs": [
    {
     "name": "stdout",
     "output_type": "stream",
     "text": [
      "Performing Opponent-Adjustment...\n",
      "Homefield Advantage: (alpha: 225)\n",
      "0.013\n"
     ]
    }
   ],
   "source": [
    "### --------------------------------------------------------------------------\n",
    "### PART 5 - Perform Opponent Adjustment \n",
    "### --------------------------------------------------------------------------\n",
    "# loop through our list of dataframes & adjust each for opponent & homefield advantage\n",
    "print('Performing Opponent-Adjustment...')\n",
    "\n",
    "# Create dummy variables for each Team/Opponent, plus Homefield Advantage\n",
    "dfDummies = pd.get_dummies(df[[offStr, hfaStr, defStr]])\n",
    "\n",
    "# Hyperparameter tuning for alpha (aka lambda, ie the penalty term) \n",
    "# for full season PBP data, the alpha will be 150-200, for smaller sample sizes it may find a higher alpha\n",
    "rdcv = linear_model.RidgeCV(alphas = [75,100,125,150,175,200,225,250,275,300,325], fit_intercept = True)\n",
    "rdcv.fit(dfDummies,df[stat]);\n",
    "alf = rdcv.alpha_\n",
    "\n",
    "# Or set Alpha directly here\n",
    "# alf = 175\n",
    "\n",
    "# Set up ridge regression model parameters\n",
    "reg = linear_model.Ridge(alpha = alf, fit_intercept = True)  \n",
    "\n",
    "# Run the regression\n",
    "# X values in the regression will be dummy variables each Offense/Defense, plus Homefield Advantage\n",
    "# y values will be the raw value from each game for the specific stat we're adjusting\n",
    "reg.fit(X = dfDummies, y = df[stat])\n",
    "\n",
    "# Extract regression coefficients\n",
    "dfRegResults = pd.DataFrame({\n",
    "    'coef_name': dfDummies.columns.values,\n",
    "    'ridge_reg_coef': reg.coef_})\n",
    "\n",
    "# Add intercept back in to reg coef to get 'adjusted' value\n",
    "dfRegResults['ridge_reg_value'] = (dfRegResults['ridge_reg_coef']+reg.intercept_)\n",
    "\n",
    "#Print the HFA and Alpha values\n",
    "print('Homefield Advantage: (alpha: '+str(alf)+')')\n",
    "print('{:.3f}'.format(dfRegResults[dfRegResults['coef_name'] == hfaStr]['ridge_reg_coef'][0]))\n",
    "\n",
    "# Offense\n",
    "dfAdjOff = (dfRegResults[dfRegResults['coef_name'].str.slice(0, len(offStr)) == offStr].\n",
    "   rename(columns = {\"ridge_reg_value\": stat}).\n",
    "  reset_index(drop = True))\n",
    "dfAdjOff['coef_name'] = dfAdjOff['coef_name'].str.replace(offStr+'_','')\n",
    "dfAdjOff = dfAdjOff.drop(columns=['ridge_reg_coef'])\n",
    "\n",
    "# Defense\n",
    "dfAdjDef = (dfRegResults[dfRegResults['coef_name'].str.slice(0, len(defStr)) == defStr].\n",
    "   rename(columns = {\"ridge_reg_value\": stat}).\n",
    "  reset_index(drop = True))\n",
    "dfAdjDef['coef_name'] = dfAdjDef['coef_name'].str.replace(defStr+'_','')\n",
    "dfAdjDef = dfAdjDef.drop(columns=['ridge_reg_coef'])"
   ]
  },
  {
   "cell_type": "code",
   "execution_count": 26,
   "id": "e99a6f8e",
   "metadata": {},
   "outputs": [
    {
     "name": "stdout",
     "output_type": "stream",
     "text": [
      "                school  rawOff  adjOff  rawDef  adjDef\n",
      "0            Air Force   0.281   0.270   0.178   0.188\n",
      "1                Akron   0.142   0.145   0.460   0.386\n",
      "2              Alabama   0.294   0.326   0.069   0.067\n",
      "3    Appalachian State   0.258   0.238   0.101   0.123\n",
      "4              Arizona   0.040   0.090   0.248   0.218\n",
      "..                 ...     ...     ...     ...     ...\n",
      "125   Western Kentucky   0.354   0.320   0.190   0.206\n",
      "126   Western Michigan   0.308   0.266   0.246   0.239\n",
      "127      West Virginia   0.175   0.173   0.186   0.164\n",
      "128          Wisconsin   0.156   0.187  -0.010   0.040\n",
      "129            Wyoming   0.215   0.202   0.170   0.192\n",
      "\n",
      "[130 rows x 5 columns]\n",
      "Adjusted Data ouput to: adj2021.csv\n",
      "Time Elapsed (s):  2593.2\n"
     ]
    }
   ],
   "source": [
    "### --------------------------------------------------------------------------\n",
    "### PART 6 - Join Data and Output\n",
    "### --------------------------------------------------------------------------\n",
    "\n",
    "# associate the raw and adjusted epa with each team\n",
    "dfTeam['rawOff'] = dfTeam.join(df.groupby('offense').mean().ppa, on='school').ppa # raw avg ppa\n",
    "dfTeam['adjOff'] = dfTeam.join(dfAdjOff.set_index('coef_name'), on='school').ppa # adj est ppa\n",
    "dfTeam['rawDef'] = dfTeam.join(df.groupby('defense').mean().ppa, on='school').ppa\n",
    "dfTeam['adjDef'] = dfTeam.join(dfAdjDef.set_index('coef_name'), on='school').ppa\n",
    "\n",
    "# final formatting and output\n",
    "dfTeam = dfTeam.round(3) # round adjusted value to thousandths \n",
    "print(dfTeam)\n",
    "dfTeam.to_csv('adj'+str(u_year)+'.csv', index=False)\n",
    "print('Adjusted Data ouput to: adj'+str(u_year)+'.csv')\n",
    "end = time.time()\n",
    "print('Time Elapsed (s): ',round(end-start,1))"
   ]
  }
 ],
 "metadata": {
  "kernelspec": {
   "display_name": "Python 3 (ipykernel)",
   "language": "python",
   "name": "python3"
  },
  "language_info": {
   "codemirror_mode": {
    "name": "ipython",
    "version": 3
   },
   "file_extension": ".py",
   "mimetype": "text/x-python",
   "name": "python",
   "nbconvert_exporter": "python",
   "pygments_lexer": "ipython3",
   "version": "3.8.8"
  }
 },
 "nbformat": 4,
 "nbformat_minor": 5
}
